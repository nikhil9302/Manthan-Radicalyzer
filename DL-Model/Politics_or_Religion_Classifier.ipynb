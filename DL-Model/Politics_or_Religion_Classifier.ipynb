{
  "nbformat": 4,
  "nbformat_minor": 0,
  "metadata": {
    "colab": {
      "name": "Politics or Religion Classifier.ipynb",
      "provenance": [],
      "collapsed_sections": [],
      "machine_shape": "hm"
    },
    "kernelspec": {
      "name": "python3",
      "display_name": "Python 3"
    },
    "language_info": {
      "name": "python"
    },
    "accelerator": "GPU"
  },
  "cells": [
    {
      "cell_type": "code",
      "execution_count": 2,
      "metadata": {
        "colab": {
          "base_uri": "https://localhost:8080/"
        },
        "id": "fPXDtwsSVbKI",
        "outputId": "931a1051-5ce7-46de-d737-fd65245bd9e8"
      },
      "outputs": [
        {
          "output_type": "stream",
          "name": "stdout",
          "text": [
            "--2021-12-10 05:14:04--  https://raw.githubusercontent.com/abhilas0/twitter_sentimental_analysis/master/tweet_result.csv\n",
            "Resolving raw.githubusercontent.com (raw.githubusercontent.com)... 185.199.108.133, 185.199.109.133, 185.199.110.133, ...\n",
            "Connecting to raw.githubusercontent.com (raw.githubusercontent.com)|185.199.108.133|:443... connected.\n",
            "HTTP request sent, awaiting response... 200 OK\n",
            "Length: 290015 (283K) [text/plain]\n",
            "Saving to: ‘tweet_result.csv’\n",
            "\n",
            "tweet_result.csv    100%[===================>] 283.22K  --.-KB/s    in 0.02s   \n",
            "\n",
            "2021-12-10 05:14:05 (12.0 MB/s) - ‘tweet_result.csv’ saved [290015/290015]\n",
            "\n"
          ]
        }
      ],
      "source": [
        "!wget https://raw.githubusercontent.com/abhilas0/twitter_sentimental_analysis/master/tweet_result.csv"
      ]
    },
    {
      "cell_type": "code",
      "source": [
        "!wget https://raw.githubusercontent.com/HurmetNoka/religion_on_twitter/master/full_data.csv"
      ],
      "metadata": {
        "colab": {
          "base_uri": "https://localhost:8080/"
        },
        "id": "95nGMWREVk7T",
        "outputId": "a4b9c397-c263-4387-b56f-e1e06ad852b1"
      },
      "execution_count": 3,
      "outputs": [
        {
          "output_type": "stream",
          "name": "stdout",
          "text": [
            "--2021-12-10 05:14:05--  https://raw.githubusercontent.com/HurmetNoka/religion_on_twitter/master/full_data.csv\n",
            "Resolving raw.githubusercontent.com (raw.githubusercontent.com)... 185.199.108.133, 185.199.109.133, 185.199.110.133, ...\n",
            "Connecting to raw.githubusercontent.com (raw.githubusercontent.com)|185.199.108.133|:443... connected.\n",
            "HTTP request sent, awaiting response... 200 OK\n",
            "Length: 9177326 (8.8M) [text/plain]\n",
            "Saving to: ‘full_data.csv’\n",
            "\n",
            "full_data.csv       100%[===================>]   8.75M  --.-KB/s    in 0.07s   \n",
            "\n",
            "2021-12-10 05:14:05 (124 MB/s) - ‘full_data.csv’ saved [9177326/9177326]\n",
            "\n"
          ]
        }
      ]
    },
    {
      "cell_type": "code",
      "source": [
        "import pandas as pd\n",
        "import numpy as np\n",
        "import re\n",
        "\n",
        "politics = pd.read_csv('tweet_result.csv', names = ['date', 'tweet'])\n",
        "# politics[1].apply()\n",
        "def remove_pattern(input_txt, pattern):\n",
        "    r = re.findall(pattern, input_txt)\n",
        "    for i in r:\n",
        "        input_txt = re.sub(i, '', input_txt)\n",
        "        \n",
        "    return input_txt\n",
        "politics['tweet'] = np.vectorize(remove_pattern)(politics['tweet'], \"@[\\w]*\")\n",
        "politics['tweet'] = politics['tweet'].str.replace(\"[^a-zA-Z#]\", \" \")\n",
        "politics.tweet = politics.tweet.apply(lambda x:x[2:])\n",
        "politics = politics.drop(['date'], axis=1)\n",
        "politics['label'] = [1 for i in range(len(politics))]\n",
        "politics"
      ],
      "metadata": {
        "colab": {
          "base_uri": "https://localhost:8080/",
          "height": 424
        },
        "id": "0ypIUzumVomy",
        "outputId": "a4ea31bd-beb5-4747-b7c7-85f0ac5b00ea"
      },
      "execution_count": 1,
      "outputs": [
        {
          "output_type": "execute_result",
          "data": {
            "text/html": [
              "<div>\n",
              "<style scoped>\n",
              "    .dataframe tbody tr th:only-of-type {\n",
              "        vertical-align: middle;\n",
              "    }\n",
              "\n",
              "    .dataframe tbody tr th {\n",
              "        vertical-align: top;\n",
              "    }\n",
              "\n",
              "    .dataframe thead th {\n",
              "        text-align: right;\n",
              "    }\n",
              "</style>\n",
              "<table border=\"1\" class=\"dataframe\">\n",
              "  <thead>\n",
              "    <tr style=\"text-align: right;\">\n",
              "      <th></th>\n",
              "      <th>tweet</th>\n",
              "      <th>label</th>\n",
              "    </tr>\n",
              "  </thead>\n",
              "  <tbody>\n",
              "    <tr>\n",
              "      <th>0</th>\n",
              "      <td>RT   Our farmers are our pride  amp  strength ...</td>\n",
              "      <td>1</td>\n",
              "    </tr>\n",
              "    <tr>\n",
              "      <th>1</th>\n",
              "      <td>RT   Tej Bahadur is looking all set to become ...</td>\n",
              "      <td>1</td>\n",
              "    </tr>\n",
              "    <tr>\n",
              "      <th>2</th>\n",
              "      <td>RT   Which law made by PM Modi says  Tribals c...</td>\n",
              "      <td>1</td>\n",
              "    </tr>\n",
              "    <tr>\n",
              "      <th>3</th>\n",
              "      <td>RT   Ramayana stamps released by PM Modi RT ht...</td>\n",
              "      <td>1</td>\n",
              "    </tr>\n",
              "    <tr>\n",
              "      <th>4</th>\n",
              "      <td>RT   Republic TV falsely portrays man praising...</td>\n",
              "      <td>1</td>\n",
              "    </tr>\n",
              "    <tr>\n",
              "      <th>...</th>\n",
              "      <td>...</td>\n",
              "      <td>...</td>\n",
              "    </tr>\n",
              "    <tr>\n",
              "      <th>1672</th>\n",
              "      <td>RT   AAP Candidate says Vote for gundas to def...</td>\n",
              "      <td>1</td>\n",
              "    </tr>\n",
              "    <tr>\n",
              "      <th>1673</th>\n",
              "      <td>India s Narendra Modi has failed at economic r...</td>\n",
              "      <td>1</td>\n",
              "    </tr>\n",
              "    <tr>\n",
              "      <th>1674</th>\n",
              "      <td>RT   Tej Bahadur is looking all set to become ...</td>\n",
              "      <td>1</td>\n",
              "    </tr>\n",
              "    <tr>\n",
              "      <th>1675</th>\n",
              "      <td>Modi effect   getting kicked around by Paki...</td>\n",
              "      <td>1</td>\n",
              "    </tr>\n",
              "    <tr>\n",
              "      <th>1676</th>\n",
              "      <td>The person who said     i will cut modi in t...</td>\n",
              "      <td>1</td>\n",
              "    </tr>\n",
              "  </tbody>\n",
              "</table>\n",
              "<p>1677 rows × 2 columns</p>\n",
              "</div>"
            ],
            "text/plain": [
              "                                                  tweet  label\n",
              "0     RT   Our farmers are our pride  amp  strength ...      1\n",
              "1     RT   Tej Bahadur is looking all set to become ...      1\n",
              "2     RT   Which law made by PM Modi says  Tribals c...      1\n",
              "3     RT   Ramayana stamps released by PM Modi RT ht...      1\n",
              "4     RT   Republic TV falsely portrays man praising...      1\n",
              "...                                                 ...    ...\n",
              "1672  RT   AAP Candidate says Vote for gundas to def...      1\n",
              "1673  India s Narendra Modi has failed at economic r...      1\n",
              "1674  RT   Tej Bahadur is looking all set to become ...      1\n",
              "1675     Modi effect   getting kicked around by Paki...      1\n",
              "1676    The person who said     i will cut modi in t...      1\n",
              "\n",
              "[1677 rows x 2 columns]"
            ]
          },
          "metadata": {},
          "execution_count": 1
        }
      ]
    },
    {
      "cell_type": "code",
      "source": [
        "religion = pd.read_csv('full_data.csv') \n",
        "religion['tweet'] = religion['tweet_text']\n",
        "religion = religion.drop(['Unnamed: 0',\t'tweet_text'], axis = 1)\n",
        "religion = religion.sample(n = 1677, random_state=42)\n",
        "religion.reset_index(drop = True, inplace=True)\n",
        "religion['label'] = [0 for i in range(len(religion))]\n",
        "religion"
      ],
      "metadata": {
        "id": "GOJDxQLQX99Z",
        "colab": {
          "base_uri": "https://localhost:8080/",
          "height": 424
        },
        "outputId": "8d9b9489-e5e1-4b03-841b-2562c6981e1b"
      },
      "execution_count": 2,
      "outputs": [
        {
          "output_type": "execute_result",
          "data": {
            "text/html": [
              "<div>\n",
              "<style scoped>\n",
              "    .dataframe tbody tr th:only-of-type {\n",
              "        vertical-align: middle;\n",
              "    }\n",
              "\n",
              "    .dataframe tbody tr th {\n",
              "        vertical-align: top;\n",
              "    }\n",
              "\n",
              "    .dataframe thead th {\n",
              "        text-align: right;\n",
              "    }\n",
              "</style>\n",
              "<table border=\"1\" class=\"dataframe\">\n",
              "  <thead>\n",
              "    <tr style=\"text-align: right;\">\n",
              "      <th></th>\n",
              "      <th>tweet</th>\n",
              "      <th>label</th>\n",
              "    </tr>\n",
              "  </thead>\n",
              "  <tbody>\n",
              "    <tr>\n",
              "      <th>0</th>\n",
              "      <td>@ Emmy4Mayim Sadly, that's not true. Historica...</td>\n",
              "      <td>0</td>\n",
              "    </tr>\n",
              "    <tr>\n",
              "      <th>1</th>\n",
              "      <td>TOMORROW, Tuesday, May 31st, at 8 p.m, is anot...</td>\n",
              "      <td>0</td>\n",
              "    </tr>\n",
              "    <tr>\n",
              "      <th>2</th>\n",
              "      <td>Islam is the only religion that motivates you ...</td>\n",
              "      <td>0</td>\n",
              "    </tr>\n",
              "    <tr>\n",
              "      <th>3</th>\n",
              "      <td>Woe to anyone who believes the self serving ‘r...</td>\n",
              "      <td>0</td>\n",
              "    </tr>\n",
              "    <tr>\n",
              "      <th>4</th>\n",
              "      <td>and the reason there are so many different rel...</td>\n",
              "      <td>0</td>\n",
              "    </tr>\n",
              "    <tr>\n",
              "      <th>...</th>\n",
              "      <td>...</td>\n",
              "      <td>...</td>\n",
              "    </tr>\n",
              "    <tr>\n",
              "      <th>1672</th>\n",
              "      <td>Everyone believes in something; religion or so...</td>\n",
              "      <td>0</td>\n",
              "    </tr>\n",
              "    <tr>\n",
              "      <th>1673</th>\n",
              "      <td>We have only one religion in this world and th...</td>\n",
              "      <td>0</td>\n",
              "    </tr>\n",
              "    <tr>\n",
              "      <th>1674</th>\n",
              "      <td>You see what timi Nd his wife is causing... I ...</td>\n",
              "      <td>0</td>\n",
              "    </tr>\n",
              "    <tr>\n",
              "      <th>1675</th>\n",
              "      <td>RT @ AMZONE THE DIVINE CURRICULUM. How God's p...</td>\n",
              "      <td>0</td>\n",
              "    </tr>\n",
              "    <tr>\n",
              "      <th>1676</th>\n",
              "      <td>There is no reason civilized people cannot dis...</td>\n",
              "      <td>0</td>\n",
              "    </tr>\n",
              "  </tbody>\n",
              "</table>\n",
              "<p>1677 rows × 2 columns</p>\n",
              "</div>"
            ],
            "text/plain": [
              "                                                  tweet  label\n",
              "0     @ Emmy4Mayim Sadly, that's not true. Historica...      0\n",
              "1     TOMORROW, Tuesday, May 31st, at 8 p.m, is anot...      0\n",
              "2     Islam is the only religion that motivates you ...      0\n",
              "3     Woe to anyone who believes the self serving ‘r...      0\n",
              "4     and the reason there are so many different rel...      0\n",
              "...                                                 ...    ...\n",
              "1672  Everyone believes in something; religion or so...      0\n",
              "1673  We have only one religion in this world and th...      0\n",
              "1674  You see what timi Nd his wife is causing... I ...      0\n",
              "1675  RT @ AMZONE THE DIVINE CURRICULUM. How God's p...      0\n",
              "1676  There is no reason civilized people cannot dis...      0\n",
              "\n",
              "[1677 rows x 2 columns]"
            ]
          },
          "metadata": {},
          "execution_count": 2
        }
      ]
    },
    {
      "cell_type": "code",
      "source": [
        "data = pd.concat([politics, religion])\n",
        "data = data.sample(frac=1).reset_index(drop=True)\n",
        "data.shape"
      ],
      "metadata": {
        "colab": {
          "base_uri": "https://localhost:8080/"
        },
        "id": "N55SJSWnsE2a",
        "outputId": "4d53ef51-9a8e-4fd9-9742-b3326ef8962f"
      },
      "execution_count": 3,
      "outputs": [
        {
          "output_type": "execute_result",
          "data": {
            "text/plain": [
              "(3354, 2)"
            ]
          },
          "metadata": {},
          "execution_count": 3
        }
      ]
    },
    {
      "cell_type": "code",
      "source": [
        "0.8*3354"
      ],
      "metadata": {
        "colab": {
          "base_uri": "https://localhost:8080/"
        },
        "id": "qm_J-xBsupIz",
        "outputId": "d12e5eac-5e27-4294-cef9-5e829522d57c"
      },
      "execution_count": 7,
      "outputs": [
        {
          "output_type": "execute_result",
          "data": {
            "text/plain": [
              "2683.2000000000003"
            ]
          },
          "metadata": {},
          "execution_count": 7
        }
      ]
    },
    {
      "cell_type": "code",
      "source": [
        "!pip install -q tez transformers"
      ],
      "metadata": {
        "colab": {
          "base_uri": "https://localhost:8080/"
        },
        "id": "SD1eEAyaty2v",
        "outputId": "dcc5cd39-3cbe-485f-e5af-09cd14be17ab"
      },
      "execution_count": 8,
      "outputs": [
        {
          "output_type": "stream",
          "name": "stdout",
          "text": [
            "\u001b[K     |████████████████████████████████| 3.3 MB 6.9 MB/s \n",
            "\u001b[K     |████████████████████████████████| 895 kB 65.3 MB/s \n",
            "\u001b[K     |████████████████████████████████| 3.3 MB 62.3 MB/s \n",
            "\u001b[K     |████████████████████████████████| 61 kB 654 kB/s \n",
            "\u001b[K     |████████████████████████████████| 596 kB 91.8 MB/s \n",
            "\u001b[?25h"
          ]
        }
      ]
    },
    {
      "cell_type": "code",
      "source": [
        "import torch\n",
        "import torch.nn as nn\n",
        "import transformers\n",
        "\n",
        "\n",
        "class BERTDataset():\n",
        "  def __init__(self, data, max_len=512):\n",
        "    \"\"\"\n",
        "      Input:\n",
        "        texts: Pandas dataframe\n",
        "        targets: Pandas dataframe\n",
        "        max_len: (int) maximum number of tokens per block\n",
        "    \"\"\"\n",
        "\n",
        "    self.data = data\n",
        "    \n",
        "    self.tokenizer = transformers.BertTokenizer.from_pretrained(\n",
        "          \"bert-base-uncased\",\n",
        "          do_lower_case = False\n",
        "        )\n",
        "    self.max_len = max_len\n",
        "\n",
        "  def __len__(self):\n",
        "    return len(self.data)\n",
        "\n",
        "  def __getitem__(self, idx):\n",
        "    tweet = data.loc[idx]['tweet']\n",
        "    target = data.loc[idx]['label']\n",
        "\n",
        "    inputs = self.tokenizer.encode_plus(\n",
        "          tweet,\n",
        "          None,\n",
        "          add_special_tokens = True,\n",
        "          max_length = self.max_len,\n",
        "          padding = \"max_length\",\n",
        "          truncation = True\n",
        "        )\n",
        "    return {\n",
        "        \"ids\" : torch.tensor(inputs[\"input_ids\"], dtype = torch.long),\n",
        "        \"mask\" : torch.tensor(inputs[\"attention_mask\"], dtype = torch.long),\n",
        "        \"token_type_ids\" : torch.tensor(inputs[\"token_type_ids\"], dtype = torch.long),\n",
        "        \"targets\" : torch.tensor(target, dtype = torch.float),\n",
        "        } "
      ],
      "metadata": {
        "id": "qiPpYFSvrOrp"
      },
      "execution_count": 15,
      "outputs": []
    },
    {
      "cell_type": "code",
      "source": [
        "train_no = 2683\n",
        "train = data.iloc[:train_no]\n",
        "valid = data.iloc[train_no:].reset_index(drop = True)\n",
        "train"
      ],
      "metadata": {
        "colab": {
          "base_uri": "https://localhost:8080/",
          "height": 424
        },
        "id": "rlSSPPqDutk3",
        "outputId": "67926bd5-5d7d-4eeb-d37e-9c167fbe2389"
      },
      "execution_count": 11,
      "outputs": [
        {
          "output_type": "execute_result",
          "data": {
            "text/html": [
              "<div>\n",
              "<style scoped>\n",
              "    .dataframe tbody tr th:only-of-type {\n",
              "        vertical-align: middle;\n",
              "    }\n",
              "\n",
              "    .dataframe tbody tr th {\n",
              "        vertical-align: top;\n",
              "    }\n",
              "\n",
              "    .dataframe thead th {\n",
              "        text-align: right;\n",
              "    }\n",
              "</style>\n",
              "<table border=\"1\" class=\"dataframe\">\n",
              "  <thead>\n",
              "    <tr style=\"text-align: right;\">\n",
              "      <th></th>\n",
              "      <th>tweet</th>\n",
              "      <th>label</th>\n",
              "    </tr>\n",
              "  </thead>\n",
              "  <tbody>\n",
              "    <tr>\n",
              "      <th>0</th>\n",
              "      <td>No  sir but reality is reality  nCan you ans...</td>\n",
              "      <td>1</td>\n",
              "    </tr>\n",
              "    <tr>\n",
              "      <th>1</th>\n",
              "      <td>RT   One on One #DebateChallenge  n nFollowing...</td>\n",
              "      <td>1</td>\n",
              "    </tr>\n",
              "    <tr>\n",
              "      <th>2</th>\n",
              "      <td>RT   Our farmers are our pride  amp  strength ...</td>\n",
              "      <td>1</td>\n",
              "    </tr>\n",
              "    <tr>\n",
              "      <th>3</th>\n",
              "      <td>RT   One on One #DebateChallenge  n nFollowing...</td>\n",
              "      <td>1</td>\n",
              "    </tr>\n",
              "    <tr>\n",
              "      <th>4</th>\n",
              "      <td>I fi xe  x   xa  https   t co  pFD  RBj</td>\n",
              "      <td>1</td>\n",
              "    </tr>\n",
              "    <tr>\n",
              "      <th>...</th>\n",
              "      <td>...</td>\n",
              "      <td>...</td>\n",
              "    </tr>\n",
              "    <tr>\n",
              "      <th>2678</th>\n",
              "      <td>I’m addressing your misrepresentation of who C...</td>\n",
              "      <td>0</td>\n",
              "    </tr>\n",
              "    <tr>\n",
              "      <th>2679</th>\n",
              "      <td>India is a civilization. A nation who gloats o...</td>\n",
              "      <td>0</td>\n",
              "    </tr>\n",
              "    <tr>\n",
              "      <th>2680</th>\n",
              "      <td>RT   Our farmers are our pride  amp  strength ...</td>\n",
              "      <td>1</td>\n",
              "    </tr>\n",
              "    <tr>\n",
              "      <th>2681</th>\n",
              "      <td>But the difference is only Muslims commit rape...</td>\n",
              "      <td>0</td>\n",
              "    </tr>\n",
              "    <tr>\n",
              "      <th>2682</th>\n",
              "      <td>Many of the world’s problems are centered arou...</td>\n",
              "      <td>0</td>\n",
              "    </tr>\n",
              "  </tbody>\n",
              "</table>\n",
              "<p>2683 rows × 2 columns</p>\n",
              "</div>"
            ],
            "text/plain": [
              "                                                  tweet  label\n",
              "0       No  sir but reality is reality  nCan you ans...      1\n",
              "1     RT   One on One #DebateChallenge  n nFollowing...      1\n",
              "2     RT   Our farmers are our pride  amp  strength ...      1\n",
              "3     RT   One on One #DebateChallenge  n nFollowing...      1\n",
              "4             I fi xe  x   xa  https   t co  pFD  RBj        1\n",
              "...                                                 ...    ...\n",
              "2678  I’m addressing your misrepresentation of who C...      0\n",
              "2679  India is a civilization. A nation who gloats o...      0\n",
              "2680  RT   Our farmers are our pride  amp  strength ...      1\n",
              "2681  But the difference is only Muslims commit rape...      0\n",
              "2682  Many of the world’s problems are centered arou...      0\n",
              "\n",
              "[2683 rows x 2 columns]"
            ]
          },
          "metadata": {},
          "execution_count": 11
        }
      ]
    },
    {
      "cell_type": "code",
      "source": [
        "valid"
      ],
      "metadata": {
        "colab": {
          "base_uri": "https://localhost:8080/",
          "height": 424
        },
        "id": "yaN9Bn_Qu6YE",
        "outputId": "c20e28e2-7ef3-461d-c462-fc2cac6eba85"
      },
      "execution_count": 6,
      "outputs": [
        {
          "output_type": "execute_result",
          "data": {
            "text/html": [
              "<div>\n",
              "<style scoped>\n",
              "    .dataframe tbody tr th:only-of-type {\n",
              "        vertical-align: middle;\n",
              "    }\n",
              "\n",
              "    .dataframe tbody tr th {\n",
              "        vertical-align: top;\n",
              "    }\n",
              "\n",
              "    .dataframe thead th {\n",
              "        text-align: right;\n",
              "    }\n",
              "</style>\n",
              "<table border=\"1\" class=\"dataframe\">\n",
              "  <thead>\n",
              "    <tr style=\"text-align: right;\">\n",
              "      <th></th>\n",
              "      <th>tweet</th>\n",
              "      <th>label</th>\n",
              "    </tr>\n",
              "  </thead>\n",
              "  <tbody>\n",
              "    <tr>\n",
              "      <th>0</th>\n",
              "      <td>RT   Modi s corruption is institutional  His p...</td>\n",
              "      <td>1</td>\n",
              "    </tr>\n",
              "    <tr>\n",
              "      <th>1</th>\n",
              "      <td>xe  x   x  Speed Breaker Didi xe  x   x   tot...</td>\n",
              "      <td>1</td>\n",
              "    </tr>\n",
              "    <tr>\n",
              "      <th>2</th>\n",
              "      <td>my bf left his bad religion shirt in my closet...</td>\n",
              "      <td>0</td>\n",
              "    </tr>\n",
              "    <tr>\n",
              "      <th>3</th>\n",
              "      <td>Modi Govt Has Spent Rs       crore on Ads Sinc...</td>\n",
              "      <td>1</td>\n",
              "    </tr>\n",
              "    <tr>\n",
              "      <th>4</th>\n",
              "      <td>RT   There is absolutely NOTHING for Modi to s...</td>\n",
              "      <td>1</td>\n",
              "    </tr>\n",
              "    <tr>\n",
              "      <th>...</th>\n",
              "      <td>...</td>\n",
              "      <td>...</td>\n",
              "    </tr>\n",
              "    <tr>\n",
              "      <th>666</th>\n",
              "      <td>Yes but which religion is making that violence...</td>\n",
              "      <td>0</td>\n",
              "    </tr>\n",
              "    <tr>\n",
              "      <th>667</th>\n",
              "      <td>like when u say ur religion is pagan what does...</td>\n",
              "      <td>0</td>\n",
              "    </tr>\n",
              "    <tr>\n",
              "      <th>668</th>\n",
              "      <td>RT   One on One #DebateChallenge  n nFollowing...</td>\n",
              "      <td>1</td>\n",
              "    </tr>\n",
              "    <tr>\n",
              "      <th>669</th>\n",
              "      <td>“ Mohammad is Known As The Convener Of The Rel...</td>\n",
              "      <td>0</td>\n",
              "    </tr>\n",
              "    <tr>\n",
              "      <th>670</th>\n",
              "      <td>I have found that suicide is one of the leadin...</td>\n",
              "      <td>0</td>\n",
              "    </tr>\n",
              "  </tbody>\n",
              "</table>\n",
              "<p>671 rows × 2 columns</p>\n",
              "</div>"
            ],
            "text/plain": [
              "                                                 tweet  label\n",
              "0    RT   Modi s corruption is institutional  His p...      1\n",
              "1     xe  x   x  Speed Breaker Didi xe  x   x   tot...      1\n",
              "2    my bf left his bad religion shirt in my closet...      0\n",
              "3    Modi Govt Has Spent Rs       crore on Ads Sinc...      1\n",
              "4    RT   There is absolutely NOTHING for Modi to s...      1\n",
              "..                                                 ...    ...\n",
              "666  Yes but which religion is making that violence...      0\n",
              "667  like when u say ur religion is pagan what does...      0\n",
              "668  RT   One on One #DebateChallenge  n nFollowing...      1\n",
              "669  “ Mohammad is Known As The Convener Of The Rel...      0\n",
              "670  I have found that suicide is one of the leadin...      0\n",
              "\n",
              "[671 rows x 2 columns]"
            ]
          },
          "metadata": {},
          "execution_count": 6
        }
      ]
    },
    {
      "cell_type": "code",
      "source": [
        "train_dataset = BERTDataset(train)\n",
        "valid_dataset = BERTDataset(valid)"
      ],
      "metadata": {
        "id": "IbNqk_k8t2VF"
      },
      "execution_count": 16,
      "outputs": []
    },
    {
      "cell_type": "code",
      "source": [
        "import tez\n",
        "import torch\n",
        "from transformers import (AdamW,\n",
        "                          BertModel,\n",
        "                          get_linear_schedule_with_warmup)\n",
        "import torch.nn as nn\n",
        "from sklearn.metrics import hamming_loss\n",
        "\n",
        "class BERT(tez.Model):\n",
        "  def __init__(self, no_train_steps, num_classes = 1, lr = 5e-5):\n",
        "    \"\"\"\n",
        "      input:\n",
        "         num_classes: (int) number of classes\n",
        "         no_train_steps: (int) number of training steps\n",
        "         lr: (float) learning rate \n",
        "    \"\"\"\n",
        "    super().__init__()\n",
        "    \n",
        "    self.bert = BertModel.from_pretrained(\n",
        "            \"bert-base-uncased\", return_dict = False\n",
        "            )\n",
        "    self.lr = lr\n",
        "    self.dropout = nn.Dropout(0.3)\n",
        "    self.out = nn.Linear(768, num_classes)\n",
        "\n",
        "\n",
        "  def fetch_optimizer(self):\n",
        "    \"\"\"\n",
        "        output: (torch.optimizer) A standard pytorch Optimizer\n",
        "    \"\"\"\n",
        "    return AdamW(self.parameters(), self.lr) \n",
        "   \n",
        "  def fetch_scheluder(self):\n",
        "    \"\"\"\n",
        "         output: torch scheduler\n",
        "    \"\"\"\n",
        "    return get_linear_schedule_with_warmup(\n",
        "            self.optimizer,\n",
        "            num_warmup_steps = 0,\n",
        "            num_training_steps = self.no_train_steps\n",
        "        ) \n",
        "  \n",
        "  def losses(self, out, targets):\n",
        "    return nn.CrossEntropyLoss()(out, targets.unsqueeze(-1))\n",
        "\n",
        "  def monitor_metrics(self, outputs, targets):\n",
        "    y_pred_tag = torch.round(outputs)\n",
        "    targets = targets.cpu().detach().numpy()\n",
        "    y_pred_tag = y_pred_tag.cpu().detach().numpy()\n",
        "\n",
        "    correct_results_sum = (y_pred_tag == targets).sum()\n",
        "    acc = correct_results_sum/targets.shape[0]\n",
        "    acc = np.round(acc * 100)\n",
        "    \n",
        "    \n",
        "    \n",
        "    return {\n",
        "      \"accuracy\": acc\n",
        "    }\n",
        "\n",
        "  def forward(self, ids, mask, token_type_ids, targets = None):\n",
        "    _,x = self.bert(ids, attention_mask = mask, token_type_ids = token_type_ids)\n",
        "    x = self.out(self.dropout(x))\n",
        "\n",
        "    if targets is not None:\n",
        "      loss = self.losses(x, targets)\n",
        "    #   metrics = self.monitor_metrics(x, targets)\n",
        "      return x, loss, {}\n",
        "    return x, 0, {}"
      ],
      "metadata": {
        "id": "_uFP3rWyt_ZN"
      },
      "execution_count": 13,
      "outputs": []
    },
    {
      "cell_type": "code",
      "source": [
        "bs = 2\n",
        "epochs = 10\n",
        "\n",
        "ntrain_steps = int(len(data) / bs * epochs)\n",
        "model = BERT(no_train_steps = 10)\n",
        "es = tez.callbacks.EarlyStopping(monitor=\"valid_loss\", patience=3, model_path = 'model.bin')\n",
        "\n",
        "model.fit(train_dataset, valid_dataset, epochs=epochs, device = \"cuda\", train_bs = bs, callbacks=[es])"
      ],
      "metadata": {
        "id": "I2xjWUt-vVDE"
      },
      "execution_count": null,
      "outputs": []
    }
  ]
}